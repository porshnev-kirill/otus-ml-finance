{
 "cells": [
  {
   "cell_type": "code",
   "execution_count": 23,
   "metadata": {},
   "outputs": [],
   "source": [
    "import os\n",
    "from datetime import datetime, timedelta\n",
    "from itertools import chain\n",
    "\n",
    "import plotly.graph_objects as go\n",
    "import mplfinance as mlf\n",
    "import pandas as pd\n",
    "import yfinance"
   ]
  },
  {
   "cell_type": "code",
   "execution_count": null,
   "metadata": {},
   "outputs": [],
   "source": [
    "ROOT_FOLDER = '.'\n",
    "OUTPUT_FOLDER = 'data'\n",
    "REPLACE = False"
   ]
  },
  {
   "cell_type": "code",
   "execution_count": 3,
   "metadata": {},
   "outputs": [],
   "source": [
    "def download_security(\n",
    "        security: str,\n",
    "        start_date: datetime,\n",
    "        end_date: datetime,\n",
    "        time_frame: str\n",
    ") -> pd.DataFrame:\n",
    "    df = yfinance.download(\n",
    "        tickers=security,\n",
    "        start=start_date,\n",
    "        end=end_date,\n",
    "        interval=time_frame\n",
    "    )\n",
    "    df = df.droplevel(1, axis=1)\n",
    "    return df"
   ]
  },
  {
   "cell_type": "code",
   "execution_count": 4,
   "metadata": {},
   "outputs": [],
   "source": [
    "def get_folder_nm(\n",
    "        security: str,\n",
    "        time_frame: str\n",
    ") -> str:\n",
    "    return os.path.join(ROOT_FOLDER, OUTPUT_FOLDER, security, time_frame)"
   ]
  },
  {
   "cell_type": "code",
   "execution_count": 5,
   "metadata": {},
   "outputs": [],
   "source": [
    "def get_file_name(\n",
    "        security: str,\n",
    "        start_date: datetime,\n",
    "        end_date: datetime,\n",
    "        time_frame: str\n",
    ") -> str:\n",
    "    return f'{security}_{time_frame}_{start_date}_{end_date}.parquet'"
   ]
  },
  {
   "cell_type": "code",
   "execution_count": 6,
   "metadata": {},
   "outputs": [],
   "source": [
    "def path_handler(\n",
    "        security: str,\n",
    "        start_date: datetime,\n",
    "        end_date: datetime,\n",
    "        time_frame: str\n",
    ") -> str:\n",
    "    folder_path = os.path.join(ROOT_FOLDER, OUTPUT_FOLDER, security, time_frame)\n",
    "    file_nm = f'{security}_{time_frame}_{start_date}_{end_date}.parquet'\n",
    "    file_path = os.path.join(folder_path, file_nm)\n",
    "\n",
    "    if os.path.exists(file_path):\n",
    "        raise FileExistsError(f'The file has been already downloaded')\n",
    "    else:\n",
    "        os.makedirs(folder_path, exist_ok=True)\n",
    "    return file_path"
   ]
  },
  {
   "cell_type": "code",
   "execution_count": 7,
   "metadata": {},
   "outputs": [],
   "source": [
    "def save_security(df: pd.DataFrame, file_path: str) -> None:\n",
    "    df.to_parquet(path=file_path, compression='gzip', index=False)"
   ]
  },
  {
   "cell_type": "markdown",
   "metadata": {},
   "source": [
    "3. Создать код на Python, который загрузит на ваш локальный компьютер данные о\n",
    "котировках ценных бумаг из списка SnP500 и котировки криптовалют (BTC, ETH, SOL,\n",
    "XRP)."
   ]
  },
  {
   "cell_type": "code",
   "execution_count": 11,
   "metadata": {},
   "outputs": [
    {
     "name": "stdout",
     "output_type": "stream",
     "text": [
      "\n",
      "AAPL\n",
      "The file has been already downloaded\n",
      "Skipping.\n",
      "\n",
      "MSFT\n",
      "The file has been already downloaded\n",
      "Skipping.\n",
      "\n",
      "AMZN\n",
      "The file has been already downloaded\n",
      "Skipping.\n",
      "\n",
      "GOOG\n",
      "The file has been already downloaded\n",
      "Skipping.\n",
      "\n",
      "META\n",
      "The file has been already downloaded\n",
      "Skipping.\n",
      "\n",
      "BTC-USD\n",
      "The file has been already downloaded\n",
      "Skipping.\n",
      "\n",
      "ETH-USD\n",
      "The file has been already downloaded\n",
      "Skipping.\n",
      "\n",
      "SOL-USD\n",
      "The file has been already downloaded\n",
      "Skipping.\n",
      "\n",
      "XRP-USD\n",
      "The file has been already downloaded\n",
      "Skipping.\n"
     ]
    }
   ],
   "source": [
    "sp500_tickers = ['AAPL', 'MSFT', 'AMZN', 'GOOG', 'META'] \n",
    "crypto_tickers = ['BTC-USD', 'ETH-USD', 'SOL-USD', 'XRP-USD']\n",
    "\n",
    "start_date = '2024-01-01'\n",
    "end_date = '2024-11-01'\n",
    "time_frame = '1d'\n",
    "\n",
    "\n",
    "for security in chain(sp500_tickers, crypto_tickers):\n",
    "    print(f'\\n{security}')\n",
    "    \n",
    "    try:\n",
    "        file_path = path_handler(security, start_date, end_date, time_frame)\n",
    "    except FileExistsError as e:\n",
    "        print(str(e))\n",
    "        if REPLACE:\n",
    "            print('Replacing...')\n",
    "        else:\n",
    "            print('Skipping.')\n",
    "            continue\n",
    "\n",
    "    print(f'Downloading...')\n",
    "    df = download_security(security, start_date, end_date, time_frame)\n",
    "    print(f'Done. {len(df)} rows')\n",
    "\n",
    "    save_security(df, file_path)\n",
    "    print(f'Saved to: {file_path}')"
   ]
  },
  {
   "cell_type": "markdown",
   "metadata": {},
   "source": [
    "4. Поскольку вам предстоит много работать с ними в дальнейшем, подготовьте\n",
    "автоматическое отображение графиков текущей ситуации."
   ]
  },
  {
   "cell_type": "code",
   "execution_count": 21,
   "metadata": {},
   "outputs": [
    {
     "name": "stderr",
     "output_type": "stream",
     "text": [
      "[*********************100%***********************]  1 of 1 completed\n"
     ]
    },
    {
     "data": {
      "application/vnd.plotly.v1+json": {
       "config": {
        "plotlyServerURL": "https://plot.ly"
       },
       "data": [
        {
         "close": [
          229.05999755859375,
          228.75,
          228.96719360351562,
          228.81500244140625,
          228.05999755859375,
          227.99000549316406,
          228.85000610351562,
          229.30999755859375,
          229.85499572753906,
          229.5800018310547,
          229.38999938964844,
          228.44000244140625,
          228.33999633789062,
          226.51499938964844,
          226.17999267578125,
          226.85009765625,
          226.81329345703125,
          226.80999755859375,
          227.9748992919922,
          229,
          225.9499969482422,
          228.77000427246094,
          229.2899932861328,
          229.83999633789062,
          229.36000061035156,
          229.27000427246094,
          228.50999450683594,
          229.27999877929688,
          229.47999572753906,
          229.98500061035156,
          230.17999267578125,
          229.44000244140625,
          229.375,
          229.75999450683594
         ],
         "high": [
          229.2100067138672,
          229.16000366210938,
          229.74000549316406,
          229.4980010986328,
          229.08030700683594,
          228.24000549316406,
          228.86500549316406,
          229.61000061035156,
          229.86000061035156,
          230.16000366210938,
          229.99000549316406,
          229.49000549316406,
          228.72000122070312,
          229.92999267578125,
          227.1999969482422,
          227.6999969482422,
          227.3699951171875,
          227.00999450683594,
          228,
          229,
          229.9199981689453,
          228.9199981689453,
          229.4698944091797,
          230.14999389648438,
          229.93370056152344,
          229.5800018310547,
          229.2899932861328,
          230.1300048828125,
          229.92999267578125,
          230.1199951171875,
          230.7198944091797,
          230.38999938964844,
          229.63999938964844,
          230.14999389648438
         ],
         "low": [
          228.10000610351562,
          228.36000061035156,
          228.63499450683594,
          228.67999267578125,
          228.03370666503906,
          227.32000732421875,
          226.66000366210938,
          228.67999267578125,
          229.19000244140625,
          229.25,
          229.35499572753906,
          228.35000610351562,
          227.72000122070312,
          226.4199981689453,
          226.10000610351562,
          225.88999938964844,
          226.3800048828125,
          226.39500427246094,
          226.6999969482422,
          227.97000122070312,
          225.71029663085938,
          225.8300018310547,
          228.49000549316406,
          229.27000427246094,
          229.22000122070312,
          228.99000549316406,
          228.27000427246094,
          228.05999755859375,
          228.8300018310547,
          228.97000122070312,
          229.6750030517578,
          229.3300018310547,
          228.92999267578125,
          229.30999755859375
         ],
         "open": [
          228.10000610351562,
          229.06509399414062,
          228.7449951171875,
          228.9600067138672,
          228.82000732421875,
          228.0500030517578,
          226.7949981689453,
          228.83999633789062,
          229.3350067138672,
          229.85499572753906,
          229.5345001220703,
          229.38999938964844,
          228.42999267578125,
          229.42999267578125,
          226.52499389648438,
          226.19000244140625,
          226.85000610351562,
          226.7899932861328,
          226.80999755859375,
          227.97000122070312,
          228.7899932861328,
          225.94000244140625,
          228.75,
          229.30999755859375,
          229.85000610351562,
          229.3800048828125,
          229.27000427246094,
          228.05999755859375,
          229.27999877929688,
          229.48989868164062,
          229.98500061035156,
          230.1649932861328,
          229.44500732421875,
          229.3699951171875
         ],
         "type": "candlestick",
         "x": [
          "2024-11-18T15:30:00+00:00",
          "2024-11-18T16:30:00+00:00",
          "2024-11-18T17:30:00+00:00",
          "2024-11-18T18:30:00+00:00",
          "2024-11-18T19:30:00+00:00",
          "2024-11-18T20:30:00+00:00",
          "2024-11-19T14:30:00+00:00",
          "2024-11-19T15:30:00+00:00",
          "2024-11-19T16:30:00+00:00",
          "2024-11-19T17:30:00+00:00",
          "2024-11-19T18:30:00+00:00",
          "2024-11-19T19:30:00+00:00",
          "2024-11-19T20:30:00+00:00",
          "2024-11-20T14:30:00+00:00",
          "2024-11-20T15:30:00+00:00",
          "2024-11-20T16:30:00+00:00",
          "2024-11-20T17:30:00+00:00",
          "2024-11-20T18:30:00+00:00",
          "2024-11-20T19:30:00+00:00",
          "2024-11-20T20:30:00+00:00",
          "2024-11-21T14:30:00+00:00",
          "2024-11-21T15:30:00+00:00",
          "2024-11-21T16:30:00+00:00",
          "2024-11-21T17:30:00+00:00",
          "2024-11-21T18:30:00+00:00",
          "2024-11-21T19:30:00+00:00",
          "2024-11-21T20:30:00+00:00",
          "2024-11-22T14:30:00+00:00",
          "2024-11-22T15:30:00+00:00",
          "2024-11-22T16:30:00+00:00",
          "2024-11-22T17:30:00+00:00",
          "2024-11-22T18:30:00+00:00",
          "2024-11-22T19:30:00+00:00",
          "2024-11-22T20:30:00+00:00"
         ]
        }
       ],
       "layout": {
        "template": {
         "data": {
          "bar": [
           {
            "error_x": {
             "color": "#2a3f5f"
            },
            "error_y": {
             "color": "#2a3f5f"
            },
            "marker": {
             "line": {
              "color": "#E5ECF6",
              "width": 0.5
             },
             "pattern": {
              "fillmode": "overlay",
              "size": 10,
              "solidity": 0.2
             }
            },
            "type": "bar"
           }
          ],
          "barpolar": [
           {
            "marker": {
             "line": {
              "color": "#E5ECF6",
              "width": 0.5
             },
             "pattern": {
              "fillmode": "overlay",
              "size": 10,
              "solidity": 0.2
             }
            },
            "type": "barpolar"
           }
          ],
          "carpet": [
           {
            "aaxis": {
             "endlinecolor": "#2a3f5f",
             "gridcolor": "white",
             "linecolor": "white",
             "minorgridcolor": "white",
             "startlinecolor": "#2a3f5f"
            },
            "baxis": {
             "endlinecolor": "#2a3f5f",
             "gridcolor": "white",
             "linecolor": "white",
             "minorgridcolor": "white",
             "startlinecolor": "#2a3f5f"
            },
            "type": "carpet"
           }
          ],
          "choropleth": [
           {
            "colorbar": {
             "outlinewidth": 0,
             "ticks": ""
            },
            "type": "choropleth"
           }
          ],
          "contour": [
           {
            "colorbar": {
             "outlinewidth": 0,
             "ticks": ""
            },
            "colorscale": [
             [
              0,
              "#0d0887"
             ],
             [
              0.1111111111111111,
              "#46039f"
             ],
             [
              0.2222222222222222,
              "#7201a8"
             ],
             [
              0.3333333333333333,
              "#9c179e"
             ],
             [
              0.4444444444444444,
              "#bd3786"
             ],
             [
              0.5555555555555556,
              "#d8576b"
             ],
             [
              0.6666666666666666,
              "#ed7953"
             ],
             [
              0.7777777777777778,
              "#fb9f3a"
             ],
             [
              0.8888888888888888,
              "#fdca26"
             ],
             [
              1,
              "#f0f921"
             ]
            ],
            "type": "contour"
           }
          ],
          "contourcarpet": [
           {
            "colorbar": {
             "outlinewidth": 0,
             "ticks": ""
            },
            "type": "contourcarpet"
           }
          ],
          "heatmap": [
           {
            "colorbar": {
             "outlinewidth": 0,
             "ticks": ""
            },
            "colorscale": [
             [
              0,
              "#0d0887"
             ],
             [
              0.1111111111111111,
              "#46039f"
             ],
             [
              0.2222222222222222,
              "#7201a8"
             ],
             [
              0.3333333333333333,
              "#9c179e"
             ],
             [
              0.4444444444444444,
              "#bd3786"
             ],
             [
              0.5555555555555556,
              "#d8576b"
             ],
             [
              0.6666666666666666,
              "#ed7953"
             ],
             [
              0.7777777777777778,
              "#fb9f3a"
             ],
             [
              0.8888888888888888,
              "#fdca26"
             ],
             [
              1,
              "#f0f921"
             ]
            ],
            "type": "heatmap"
           }
          ],
          "heatmapgl": [
           {
            "colorbar": {
             "outlinewidth": 0,
             "ticks": ""
            },
            "colorscale": [
             [
              0,
              "#0d0887"
             ],
             [
              0.1111111111111111,
              "#46039f"
             ],
             [
              0.2222222222222222,
              "#7201a8"
             ],
             [
              0.3333333333333333,
              "#9c179e"
             ],
             [
              0.4444444444444444,
              "#bd3786"
             ],
             [
              0.5555555555555556,
              "#d8576b"
             ],
             [
              0.6666666666666666,
              "#ed7953"
             ],
             [
              0.7777777777777778,
              "#fb9f3a"
             ],
             [
              0.8888888888888888,
              "#fdca26"
             ],
             [
              1,
              "#f0f921"
             ]
            ],
            "type": "heatmapgl"
           }
          ],
          "histogram": [
           {
            "marker": {
             "pattern": {
              "fillmode": "overlay",
              "size": 10,
              "solidity": 0.2
             }
            },
            "type": "histogram"
           }
          ],
          "histogram2d": [
           {
            "colorbar": {
             "outlinewidth": 0,
             "ticks": ""
            },
            "colorscale": [
             [
              0,
              "#0d0887"
             ],
             [
              0.1111111111111111,
              "#46039f"
             ],
             [
              0.2222222222222222,
              "#7201a8"
             ],
             [
              0.3333333333333333,
              "#9c179e"
             ],
             [
              0.4444444444444444,
              "#bd3786"
             ],
             [
              0.5555555555555556,
              "#d8576b"
             ],
             [
              0.6666666666666666,
              "#ed7953"
             ],
             [
              0.7777777777777778,
              "#fb9f3a"
             ],
             [
              0.8888888888888888,
              "#fdca26"
             ],
             [
              1,
              "#f0f921"
             ]
            ],
            "type": "histogram2d"
           }
          ],
          "histogram2dcontour": [
           {
            "colorbar": {
             "outlinewidth": 0,
             "ticks": ""
            },
            "colorscale": [
             [
              0,
              "#0d0887"
             ],
             [
              0.1111111111111111,
              "#46039f"
             ],
             [
              0.2222222222222222,
              "#7201a8"
             ],
             [
              0.3333333333333333,
              "#9c179e"
             ],
             [
              0.4444444444444444,
              "#bd3786"
             ],
             [
              0.5555555555555556,
              "#d8576b"
             ],
             [
              0.6666666666666666,
              "#ed7953"
             ],
             [
              0.7777777777777778,
              "#fb9f3a"
             ],
             [
              0.8888888888888888,
              "#fdca26"
             ],
             [
              1,
              "#f0f921"
             ]
            ],
            "type": "histogram2dcontour"
           }
          ],
          "mesh3d": [
           {
            "colorbar": {
             "outlinewidth": 0,
             "ticks": ""
            },
            "type": "mesh3d"
           }
          ],
          "parcoords": [
           {
            "line": {
             "colorbar": {
              "outlinewidth": 0,
              "ticks": ""
             }
            },
            "type": "parcoords"
           }
          ],
          "pie": [
           {
            "automargin": true,
            "type": "pie"
           }
          ],
          "scatter": [
           {
            "fillpattern": {
             "fillmode": "overlay",
             "size": 10,
             "solidity": 0.2
            },
            "type": "scatter"
           }
          ],
          "scatter3d": [
           {
            "line": {
             "colorbar": {
              "outlinewidth": 0,
              "ticks": ""
             }
            },
            "marker": {
             "colorbar": {
              "outlinewidth": 0,
              "ticks": ""
             }
            },
            "type": "scatter3d"
           }
          ],
          "scattercarpet": [
           {
            "marker": {
             "colorbar": {
              "outlinewidth": 0,
              "ticks": ""
             }
            },
            "type": "scattercarpet"
           }
          ],
          "scattergeo": [
           {
            "marker": {
             "colorbar": {
              "outlinewidth": 0,
              "ticks": ""
             }
            },
            "type": "scattergeo"
           }
          ],
          "scattergl": [
           {
            "marker": {
             "colorbar": {
              "outlinewidth": 0,
              "ticks": ""
             }
            },
            "type": "scattergl"
           }
          ],
          "scattermapbox": [
           {
            "marker": {
             "colorbar": {
              "outlinewidth": 0,
              "ticks": ""
             }
            },
            "type": "scattermapbox"
           }
          ],
          "scatterpolar": [
           {
            "marker": {
             "colorbar": {
              "outlinewidth": 0,
              "ticks": ""
             }
            },
            "type": "scatterpolar"
           }
          ],
          "scatterpolargl": [
           {
            "marker": {
             "colorbar": {
              "outlinewidth": 0,
              "ticks": ""
             }
            },
            "type": "scatterpolargl"
           }
          ],
          "scatterternary": [
           {
            "marker": {
             "colorbar": {
              "outlinewidth": 0,
              "ticks": ""
             }
            },
            "type": "scatterternary"
           }
          ],
          "surface": [
           {
            "colorbar": {
             "outlinewidth": 0,
             "ticks": ""
            },
            "colorscale": [
             [
              0,
              "#0d0887"
             ],
             [
              0.1111111111111111,
              "#46039f"
             ],
             [
              0.2222222222222222,
              "#7201a8"
             ],
             [
              0.3333333333333333,
              "#9c179e"
             ],
             [
              0.4444444444444444,
              "#bd3786"
             ],
             [
              0.5555555555555556,
              "#d8576b"
             ],
             [
              0.6666666666666666,
              "#ed7953"
             ],
             [
              0.7777777777777778,
              "#fb9f3a"
             ],
             [
              0.8888888888888888,
              "#fdca26"
             ],
             [
              1,
              "#f0f921"
             ]
            ],
            "type": "surface"
           }
          ],
          "table": [
           {
            "cells": {
             "fill": {
              "color": "#EBF0F8"
             },
             "line": {
              "color": "white"
             }
            },
            "header": {
             "fill": {
              "color": "#C8D4E3"
             },
             "line": {
              "color": "white"
             }
            },
            "type": "table"
           }
          ]
         },
         "layout": {
          "annotationdefaults": {
           "arrowcolor": "#2a3f5f",
           "arrowhead": 0,
           "arrowwidth": 1
          },
          "autotypenumbers": "strict",
          "coloraxis": {
           "colorbar": {
            "outlinewidth": 0,
            "ticks": ""
           }
          },
          "colorscale": {
           "diverging": [
            [
             0,
             "#8e0152"
            ],
            [
             0.1,
             "#c51b7d"
            ],
            [
             0.2,
             "#de77ae"
            ],
            [
             0.3,
             "#f1b6da"
            ],
            [
             0.4,
             "#fde0ef"
            ],
            [
             0.5,
             "#f7f7f7"
            ],
            [
             0.6,
             "#e6f5d0"
            ],
            [
             0.7,
             "#b8e186"
            ],
            [
             0.8,
             "#7fbc41"
            ],
            [
             0.9,
             "#4d9221"
            ],
            [
             1,
             "#276419"
            ]
           ],
           "sequential": [
            [
             0,
             "#0d0887"
            ],
            [
             0.1111111111111111,
             "#46039f"
            ],
            [
             0.2222222222222222,
             "#7201a8"
            ],
            [
             0.3333333333333333,
             "#9c179e"
            ],
            [
             0.4444444444444444,
             "#bd3786"
            ],
            [
             0.5555555555555556,
             "#d8576b"
            ],
            [
             0.6666666666666666,
             "#ed7953"
            ],
            [
             0.7777777777777778,
             "#fb9f3a"
            ],
            [
             0.8888888888888888,
             "#fdca26"
            ],
            [
             1,
             "#f0f921"
            ]
           ],
           "sequentialminus": [
            [
             0,
             "#0d0887"
            ],
            [
             0.1111111111111111,
             "#46039f"
            ],
            [
             0.2222222222222222,
             "#7201a8"
            ],
            [
             0.3333333333333333,
             "#9c179e"
            ],
            [
             0.4444444444444444,
             "#bd3786"
            ],
            [
             0.5555555555555556,
             "#d8576b"
            ],
            [
             0.6666666666666666,
             "#ed7953"
            ],
            [
             0.7777777777777778,
             "#fb9f3a"
            ],
            [
             0.8888888888888888,
             "#fdca26"
            ],
            [
             1,
             "#f0f921"
            ]
           ]
          },
          "colorway": [
           "#636efa",
           "#EF553B",
           "#00cc96",
           "#ab63fa",
           "#FFA15A",
           "#19d3f3",
           "#FF6692",
           "#B6E880",
           "#FF97FF",
           "#FECB52"
          ],
          "font": {
           "color": "#2a3f5f"
          },
          "geo": {
           "bgcolor": "white",
           "lakecolor": "white",
           "landcolor": "#E5ECF6",
           "showlakes": true,
           "showland": true,
           "subunitcolor": "white"
          },
          "hoverlabel": {
           "align": "left"
          },
          "hovermode": "closest",
          "mapbox": {
           "style": "light"
          },
          "paper_bgcolor": "white",
          "plot_bgcolor": "#E5ECF6",
          "polar": {
           "angularaxis": {
            "gridcolor": "white",
            "linecolor": "white",
            "ticks": ""
           },
           "bgcolor": "#E5ECF6",
           "radialaxis": {
            "gridcolor": "white",
            "linecolor": "white",
            "ticks": ""
           }
          },
          "scene": {
           "xaxis": {
            "backgroundcolor": "#E5ECF6",
            "gridcolor": "white",
            "gridwidth": 2,
            "linecolor": "white",
            "showbackground": true,
            "ticks": "",
            "zerolinecolor": "white"
           },
           "yaxis": {
            "backgroundcolor": "#E5ECF6",
            "gridcolor": "white",
            "gridwidth": 2,
            "linecolor": "white",
            "showbackground": true,
            "ticks": "",
            "zerolinecolor": "white"
           },
           "zaxis": {
            "backgroundcolor": "#E5ECF6",
            "gridcolor": "white",
            "gridwidth": 2,
            "linecolor": "white",
            "showbackground": true,
            "ticks": "",
            "zerolinecolor": "white"
           }
          },
          "shapedefaults": {
           "line": {
            "color": "#2a3f5f"
           }
          },
          "ternary": {
           "aaxis": {
            "gridcolor": "white",
            "linecolor": "white",
            "ticks": ""
           },
           "baxis": {
            "gridcolor": "white",
            "linecolor": "white",
            "ticks": ""
           },
           "bgcolor": "#E5ECF6",
           "caxis": {
            "gridcolor": "white",
            "linecolor": "white",
            "ticks": ""
           }
          },
          "title": {
           "x": 0.05
          },
          "xaxis": {
           "automargin": true,
           "gridcolor": "white",
           "linecolor": "white",
           "ticks": "",
           "title": {
            "standoff": 15
           },
           "zerolinecolor": "white",
           "zerolinewidth": 2
          },
          "yaxis": {
           "automargin": true,
           "gridcolor": "white",
           "linecolor": "white",
           "ticks": "",
           "title": {
            "standoff": 15
           },
           "zerolinecolor": "white",
           "zerolinewidth": 2
          }
         }
        },
        "title": {
         "text": "AAPL Candlestick Chart"
        },
        "xaxis": {
         "rangeslider": {
          "visible": false
         },
         "title": {
          "text": "Date"
         }
        },
        "yaxis": {
         "title": {
          "text": "Stock Price (USD)"
         }
        }
       }
      }
     },
     "metadata": {},
     "output_type": "display_data"
    }
   ],
   "source": [
    "security = 'AAPL'\n",
    "last_n_days = 7\n",
    "time_frame = '1h'\n",
    "\n",
    "start_date = datetime.now() - timedelta(days=last_n_days)\n",
    "end_date = datetime.now()\n",
    "\n",
    "security_df = download_security(security, start_date, end_date, time_frame)\n",
    "\n",
    "candlestick = go.Figure(\n",
    "    data=[\n",
    "        go.Candlestick(\n",
    "            x=security_df.index,\n",
    "            open=security_df['Open'],\n",
    "            high=security_df['High'],\n",
    "            low=security_df['Low'],\n",
    "            close=security_df['Close']\n",
    "        )\n",
    "    ]\n",
    ")\n",
    "\n",
    "candlestick.update_layout(\n",
    "    title=f'{security} Candlestick Chart',\n",
    "    xaxis_title='Date',\n",
    "    yaxis_title='Stock Price (USD)',\n",
    "    xaxis_rangeslider_visible=False\n",
    ")\n",
    "\n",
    "candlestick.show()"
   ]
  },
  {
   "cell_type": "code",
   "execution_count": 28,
   "metadata": {},
   "outputs": [
    {
     "data": {
      "image/png": "[encoded data removed]",
      "text/plain": [
       "<Figure size 2000x800 with 4 Axes>"
      ]
     },
     "metadata": {},
     "output_type": "display_data"
    }
   ],
   "source": [
    "mlf.plot(security_df, volume=True, style='yahoo', figsize=(20, 8));"
   ]
  },
  {
   "cell_type": "code",
   "execution_count": null,
   "metadata": {},
   "outputs": [],
   "source": []
  }
 ],
 "metadata": {
  "kernelspec": {
   "display_name": "ml-fin",
   "language": "python",
   "name": "python3"
  },
  "language_info": {
   "codemirror_mode": {
    "name": "ipython",
    "version": 3
   },
   "file_extension": ".py",
   "mimetype": "text/x-python",
   "name": "python",
   "nbconvert_exporter": "python",
   "pygments_lexer": "ipython3",
   "version": "3.11.10"
  }
 },
 "nbformat": 4,
 "nbformat_minor": 2
}
