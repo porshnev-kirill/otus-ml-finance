{
 "cells": [
  {
   "cell_type": "code",
   "execution_count": 1,
   "metadata": {},
   "outputs": [],
   "source": [
    "import os\n",
    "from datetime import datetime\n",
    "from itertools import chain\n",
    "\n",
    "import pandas as pd\n",
    "import yfinance"
   ]
  },
  {
   "cell_type": "code",
   "execution_count": null,
   "metadata": {},
   "outputs": [],
   "source": [
    "ROOT_FOLDER = '.'\n",
    "OUTPUT_FOLDER = 'data'\n",
    "REPLACE = False"
   ]
  },
  {
   "cell_type": "code",
   "execution_count": 3,
   "metadata": {},
   "outputs": [],
   "source": [
    "def download_security(\n",
    "        security: str,\n",
    "        start_date: datetime,\n",
    "        end_date: datetime,\n",
    "        time_frame: str\n",
    ") -> pd.DataFrame:\n",
    "    df = yfinance.download(\n",
    "        tickers=security,\n",
    "        start=start_date,\n",
    "        end=end_date,\n",
    "        interval=time_frame\n",
    "    )\n",
    "    df = df.droplevel(1, axis=1)\n",
    "    return df"
   ]
  },
  {
   "cell_type": "code",
   "execution_count": 4,
   "metadata": {},
   "outputs": [],
   "source": [
    "def get_folder_nm(\n",
    "        security: str,\n",
    "        time_frame: str\n",
    ") -> str:\n",
    "    return os.path.join(ROOT_FOLDER, OUTPUT_FOLDER, security, time_frame)"
   ]
  },
  {
   "cell_type": "code",
   "execution_count": 5,
   "metadata": {},
   "outputs": [],
   "source": [
    "def get_file_name(\n",
    "        security: str,\n",
    "        start_date: datetime,\n",
    "        end_date: datetime,\n",
    "        time_frame: str\n",
    ") -> str:\n",
    "    return f'{security}_{time_frame}_{start_date}_{end_date}.parquet'"
   ]
  },
  {
   "cell_type": "code",
   "execution_count": 6,
   "metadata": {},
   "outputs": [],
   "source": [
    "def path_handler(\n",
    "        security: str,\n",
    "        start_date: datetime,\n",
    "        end_date: datetime,\n",
    "        time_frame: str\n",
    ") -> str:\n",
    "    folder_path = os.path.join(ROOT_FOLDER, OUTPUT_FOLDER, security, time_frame)\n",
    "    file_nm = f'{security}_{time_frame}_{start_date}_{end_date}.parquet'\n",
    "    file_path = os.path.join(folder_path, file_nm)\n",
    "\n",
    "    if os.path.exists(file_path):\n",
    "        raise FileExistsError(f'The file has been already downloaded')\n",
    "    else:\n",
    "        os.makedirs(folder_path, exist_ok=True)\n",
    "    return file_path"
   ]
  },
  {
   "cell_type": "code",
   "execution_count": 7,
   "metadata": {},
   "outputs": [],
   "source": [
    "def save_security(df: pd.DataFrame, file_path: str) -> None:\n",
    "    df.to_parquet(path=file_path, compression='gzip', index=False)"
   ]
  },
  {
   "cell_type": "markdown",
   "metadata": {},
   "source": [
    "3. Создать код на Python, который загрузит на ваш локальный компьютер данные о\n",
    "котировках ценных бумаг из списка SnP500 и котировки криптовалют (BTC, ETH, SOL,\n",
    "XRP)."
   ]
  },
  {
   "cell_type": "code",
   "execution_count": 11,
   "metadata": {},
   "outputs": [
    {
     "name": "stdout",
     "output_type": "stream",
     "text": [
      "\n",
      "AAPL\n",
      "The file has been already downloaded\n",
      "Skipping.\n",
      "\n",
      "MSFT\n",
      "The file has been already downloaded\n",
      "Skipping.\n",
      "\n",
      "AMZN\n",
      "The file has been already downloaded\n",
      "Skipping.\n",
      "\n",
      "GOOG\n",
      "The file has been already downloaded\n",
      "Skipping.\n",
      "\n",
      "META\n",
      "The file has been already downloaded\n",
      "Skipping.\n",
      "\n",
      "BTC-USD\n",
      "The file has been already downloaded\n",
      "Skipping.\n",
      "\n",
      "ETH-USD\n",
      "The file has been already downloaded\n",
      "Skipping.\n",
      "\n",
      "SOL-USD\n",
      "The file has been already downloaded\n",
      "Skipping.\n",
      "\n",
      "XRP-USD\n",
      "The file has been already downloaded\n",
      "Skipping.\n"
     ]
    }
   ],
   "source": [
    "sp500_tickers = ['AAPL', 'MSFT', 'AMZN', 'GOOG', 'META'] \n",
    "crypto_tickers = ['BTC-USD', 'ETH-USD', 'SOL-USD', 'XRP-USD']\n",
    "\n",
    "start_date = '2024-01-01'\n",
    "end_date = '2024-11-01'\n",
    "time_frame = '1d'\n",
    "\n",
    "\n",
    "for security in chain(sp500_tickers, crypto_tickers):\n",
    "    print(f'\\n{security}')\n",
    "    \n",
    "    try:\n",
    "        file_path = path_handler(security, start_date, end_date, time_frame)\n",
    "    except FileExistsError as e:\n",
    "        print(str(e))\n",
    "        if REPLACE:\n",
    "            print('Replacing...')\n",
    "        else:\n",
    "            print('Skipping.')\n",
    "            continue\n",
    "\n",
    "    print(f'Downloading...')\n",
    "    df = download_security(security, start_date, end_date, time_frame)\n",
    "    print(f'Done. {len(df)} rows')\n",
    "\n",
    "    save_security(df, file_path)\n",
    "    print(f'Saved to: {file_path}')"
   ]
  },
  {
   "cell_type": "code",
   "execution_count": null,
   "metadata": {},
   "outputs": [],
   "source": []
  }
 ],
 "metadata": {
  "kernelspec": {
   "display_name": "ml-fin",
   "language": "python",
   "name": "python3"
  },
  "language_info": {
   "codemirror_mode": {
    "name": "ipython",
    "version": 3
   },
   "file_extension": ".py",
   "mimetype": "text/x-python",
   "name": "python",
   "nbconvert_exporter": "python",
   "pygments_lexer": "ipython3",
   "version": "3.11.10"
  }
 },
 "nbformat": 4,
 "nbformat_minor": 2
}
