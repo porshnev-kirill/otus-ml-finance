{
 "cells": [
  {
   "cell_type": "markdown",
   "metadata": {},
   "source": [
    " Создать код на Python, который загрузит на ваш локальный компьютер данные о\n",
    "котировках ценных бумаг из списка SnP500 и котировки криптовалют (BTC, ETH, SOL,\n",
    "XRP)."
   ]
  },
  {
   "cell_type": "code",
   "execution_count": 43,
   "metadata": {},
   "outputs": [],
   "source": [
    "import os\n",
    "from datetime import datetime\n",
    "from itertools import chain\n",
    "\n",
    "import pandas as pd\n",
    "import yfinance"
   ]
  },
  {
   "cell_type": "code",
   "execution_count": 44,
   "metadata": {},
   "outputs": [],
   "source": [
    "ROOT_FOLDER = '.'\n",
    "OUTPUT_FOLDER = 'data'\n",
    "REPLACE = False\n",
    "\n",
    "sp500_tickers = ['AAPL', 'MSFT', 'AMZN', 'GOOG', 'META'] \n",
    "crypto_tickers = ['BTC-USD', 'ETH-USD', 'SOL-USD', 'XRP-USD']\n",
    "\n",
    "start_date = '2024-01-01'\n",
    "end_date = '2024-11-01'\n",
    "time_frame = '1d'\n",
    "\n"
   ]
  },
  {
   "cell_type": "code",
   "execution_count": 45,
   "metadata": {},
   "outputs": [],
   "source": [
    "def download_ticker(\n",
    "        ticker_nm: str,\n",
    "        start_date: datetime,\n",
    "        end_date: datetime,\n",
    "        time_frame: str\n",
    ") -> pd.DataFrame:\n",
    "    df = yfinance.download(\n",
    "        tickers=ticker_nm,\n",
    "        start=start_date,\n",
    "        end=end_date,\n",
    "        interval=time_frame\n",
    "    )\n",
    "    df = df.droplevel(1, axis=1)\n",
    "    return df"
   ]
  },
  {
   "cell_type": "code",
   "execution_count": 46,
   "metadata": {},
   "outputs": [],
   "source": [
    "def get_folder_nm(\n",
    "        ticker_nm: str,\n",
    "        time_frame: str\n",
    ") -> str:\n",
    "    return os.path.join(ROOT_FOLDER, OUTPUT_FOLDER, ticker_nm, time_frame)"
   ]
  },
  {
   "cell_type": "code",
   "execution_count": 47,
   "metadata": {},
   "outputs": [],
   "source": [
    "def get_file_name(\n",
    "        ticker_nm: str,\n",
    "        start_date: datetime,\n",
    "        end_date: datetime,\n",
    "        time_frame: str\n",
    ") -> str:\n",
    "    return f'{ticker_nm}_{time_frame}_{start_date}_{end_date}.parquet'"
   ]
  },
  {
   "cell_type": "code",
   "execution_count": 55,
   "metadata": {},
   "outputs": [],
   "source": [
    "def path_handler(\n",
    "        ticker_nm: str,\n",
    "        start_date: datetime,\n",
    "        end_date: datetime,\n",
    "        time_frame: str\n",
    ") -> str:\n",
    "    folder_path = os.path.join(ROOT_FOLDER, OUTPUT_FOLDER, ticker_nm, time_frame)\n",
    "    file_nm = f'{ticker_nm}_{time_frame}_{start_date}_{end_date}.parquet'\n",
    "    file_path = os.path.join(folder_path, file_nm)\n",
    "\n",
    "    if os.path.exists(file_path):\n",
    "        raise FileExistsError(f'The file has been already downloaded')\n",
    "    else:\n",
    "        os.makedirs(folder_path, exist_ok=True)\n",
    "    return file_path"
   ]
  },
  {
   "cell_type": "code",
   "execution_count": 49,
   "metadata": {},
   "outputs": [],
   "source": [
    "def save_ticker(df: pd.DataFrame, file_path: str) -> None:\n",
    "    df.to_parquet(path=file_path, compression='gzip', index=False)"
   ]
  },
  {
   "cell_type": "code",
   "execution_count": 50,
   "metadata": {},
   "outputs": [
    {
     "name": "stdout",
     "output_type": "stream",
     "text": [
      "The file has been already downloaded\n"
     ]
    }
   ],
   "source": [
    "try:\n",
    "    raise FileExistsError(f'The file has been already downloaded')\n",
    "except FileExistsError as e:\n",
    "    print(str(e))\n"
   ]
  },
  {
   "cell_type": "code",
   "execution_count": 53,
   "metadata": {},
   "outputs": [
    {
     "data": {
      "text/plain": [
       "'./data/AAPL/1d/AAPL_1d_2024-01-01_2024-11-01.parquet'"
      ]
     },
     "execution_count": 53,
     "metadata": {},
     "output_type": "execute_result"
    }
   ],
   "source": [
    "ticker_nm = 'AAPL'\n",
    "path_handler(ticker_nm, start_date, end_date, time_frame)"
   ]
  },
  {
   "cell_type": "code",
   "execution_count": 54,
   "metadata": {},
   "outputs": [
    {
     "data": {
      "text/plain": [
       "True"
      ]
     },
     "execution_count": 54,
     "metadata": {},
     "output_type": "execute_result"
    }
   ],
   "source": [
    "file_path = './data/AAPL/1d/AAPL_1d_2024-01-01_2024-11-01.parquet'\n",
    "os.path.exists(file_path)"
   ]
  },
  {
   "cell_type": "code",
   "execution_count": null,
   "metadata": {},
   "outputs": [
    {
     "name": "stderr",
     "output_type": "stream",
     "text": [
      "[*********************100%***********************]  1 of 1 completed\n",
      "[*********************100%***********************]  1 of 1 completed\n",
      "[*********************100%***********************]  1 of 1 completed\n",
      "[*********************100%***********************]  1 of 1 completed\n",
      "[*********************100%***********************]  1 of 1 completed\n",
      "[*********************100%***********************]  1 of 1 completed\n",
      "[*********************100%***********************]  1 of 1 completed\n",
      "[*********************100%***********************]  1 of 1 completed\n",
      "[*********************100%***********************]  1 of 1 completed"
     ]
    },
    {
     "name": "stdout",
     "output_type": "stream",
     "text": [
      "\n",
      "AAPL\n",
      "Downloading AAPL...\n",
      "Done. 211 rows\n",
      "Data saved to ./data/AAPL/1d/AAPL_1d_2024-01-01_2024-11-01.parquet\n",
      "\n",
      "MSFT\n",
      "Downloading MSFT...\n",
      "Done. 211 rows\n",
      "Data saved to ./data/MSFT/1d/MSFT_1d_2024-01-01_2024-11-01.parquet\n",
      "\n",
      "AMZN\n",
      "Downloading AMZN...\n",
      "Done. 211 rows\n",
      "Data saved to ./data/AMZN/1d/AMZN_1d_2024-01-01_2024-11-01.parquet\n",
      "\n",
      "GOOG\n",
      "Downloading GOOG...\n",
      "Done. 211 rows\n",
      "Data saved to ./data/GOOG/1d/GOOG_1d_2024-01-01_2024-11-01.parquet\n",
      "\n",
      "META\n",
      "Downloading META...\n",
      "Done. 211 rows\n",
      "Data saved to ./data/META/1d/META_1d_2024-01-01_2024-11-01.parquet\n",
      "\n",
      "BTC-USD\n",
      "Downloading BTC-USD...\n",
      "Done. 305 rows\n",
      "Data saved to ./data/BTC-USD/1d/BTC-USD_1d_2024-01-01_2024-11-01.parquet\n",
      "\n",
      "ETH-USD\n",
      "Downloading ETH-USD...\n",
      "Done. 305 rows\n",
      "Data saved to ./data/ETH-USD/1d/ETH-USD_1d_2024-01-01_2024-11-01.parquet\n",
      "\n",
      "SOL-USD\n",
      "Downloading SOL-USD...\n",
      "Done. 305 rows\n",
      "Data saved to ./data/SOL-USD/1d/SOL-USD_1d_2024-01-01_2024-11-01.parquet\n",
      "\n",
      "XRP-USD\n",
      "Downloading XRP-USD...\n",
      "Done. 305 rows\n",
      "Data saved to ./data/XRP-USD/1d/XRP-USD_1d_2024-01-01_2024-11-01.parquet\n"
     ]
    },
    {
     "name": "stderr",
     "output_type": "stream",
     "text": [
      "\n"
     ]
    }
   ],
   "source": [
    "for ticker_nm in chain(sp500_tickers, crypto_tickers):\n",
    "    print(f'\\n{ticker_nm}')\n",
    "    \n",
    "    try:\n",
    "        file_path = path_handler(ticker_nm, start_date, end_date, time_frame)\n",
    "    except FileExistsError as e:\n",
    "        if REPLACE:\n",
    "            print(f'{str(e)}.\\nReplacing...')\n",
    "        else:\n",
    "            print(f'{str(e)}.\\nSkiping.')\n",
    "            continue\n",
    "\n",
    "    print(f'Downloading...')\n",
    "    df = download_ticker(ticker_nm, start_date, end_date, time_frame)\n",
    "    print(f'Done. {len(df)} rows')\n",
    "\n",
    "    save_ticker(df, file_path)\n",
    "    print(f'Saved to: {file_path}')"
   ]
  },
  {
   "cell_type": "code",
   "execution_count": null,
   "metadata": {},
   "outputs": [],
   "source": []
  }
 ],
 "metadata": {
  "kernelspec": {
   "display_name": "ml-fin",
   "language": "python",
   "name": "python3"
  },
  "language_info": {
   "codemirror_mode": {
    "name": "ipython",
    "version": 3
   },
   "file_extension": ".py",
   "mimetype": "text/x-python",
   "name": "python",
   "nbconvert_exporter": "python",
   "pygments_lexer": "ipython3",
   "version": "3.11.10"
  }
 },
 "nbformat": 4,
 "nbformat_minor": 2
}
